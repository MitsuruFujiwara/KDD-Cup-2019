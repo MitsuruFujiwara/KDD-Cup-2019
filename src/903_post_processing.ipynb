{
 "cells": [
  {
   "cell_type": "code",
   "execution_count": 1,
   "metadata": {},
   "outputs": [
    {
     "name": "stderr",
     "output_type": "stream",
     "text": [
      "/home/fujiwara/.pyenv/versions/anaconda3-5.2.0/lib/python3.6/site-packages/requests/__init__.py:80: RequestsDependencyWarning: urllib3 (1.24.1) or chardet (3.0.4) doesn't match a supported version!\n",
      "  RequestsDependencyWarning)\n"
     ]
    }
   ],
   "source": [
    "import gc\n",
    "import json\n",
    "import matplotlib.pyplot as plt\n",
    "import pandas as pd\n",
    "import numpy as np\n",
    "import seaborn as sns\n",
    "\n",
    "from sklearn.metrics import f1_score\n",
    "from sklearn.preprocessing import MinMaxScaler\n",
    "from tqdm import tqdm_notebook\n",
    "from glob import glob\n",
    "\n",
    "from utils import loadpkl, to_json, scalingPredictions, getBestMultiple, read_pickles\n",
    "\n",
    "%matplotlib inline"
   ]
  },
  {
   "cell_type": "code",
   "execution_count": 2,
   "metadata": {},
   "outputs": [],
   "source": [
    "# search a best weight for 2 predictions\n",
    "def getBestWeights(act, pred_lgbm, pred_xgb):\n",
    "    search_range = np.arange(0.0, 1.1, 0.1)\n",
    "    best_weights = []\n",
    "\n",
    "    # base prediction\n",
    "    _pred = pd.DataFrame()\n",
    "    cols_pred=[]\n",
    "    for i in range(0,12):\n",
    "        _pred['pred_{}'.format(i)] = 0.5*pred_lgbm['pred_lgbm_plans{}'.format(i)]+ 0.5*pred_xgb['pred_xgb_plans{}'.format(i)]\n",
    "        cols_pred.append('pred_{}'.format(i))\n",
    "\n",
    "    # base score\n",
    "    best_f1=f1_score(act, np.argmax(_pred[cols_pred].values,axis=1),average='weighted')\n",
    "    \n",
    "    # get best weights for each classes\n",
    "    for i in range(0,12):\n",
    "        f1s = []\n",
    "        for _w in search_range:\n",
    "            tmp_pred = _pred[cols_pred]\n",
    "            tmp_pred['pred_{}'.format(i)] = _w*pred_lgbm['pred_lgbm_plans{}'.format(i)]+ (1.0-_w)*pred_xgb['pred_xgb_plans{}'.format(i)]\n",
    "                    \n",
    "            # calc f1 score\n",
    "            _f1 = f1_score(act, np.argmax(tmp_pred.values,axis=1),average='weighted')\n",
    "            f1s.append(_f1)\n",
    "            print('class: {}, w: {}, f1 score: {}'.format(i,_w,_f1))\n",
    "            if _f1 > best_f1:\n",
    "                best_f1 = _f1\n",
    "                best_w = _w\n",
    "\n",
    "            del tmp_pred\n",
    "\n",
    "        # save weights & predicted values\n",
    "        best_weights.append(best_w)\n",
    "        _pred['pred_{}'.format(i)] = best_w*pred_lgbm['pred_lgbm_plans{}'.format(i)]+ (1.0-best_w)*pred_xgb['pred_xgb_plans{}'.format(i)]\n",
    "        \n",
    "        # plot thresholds\n",
    "        plt.figure()\n",
    "        plt.plot(search_range, f1s)\n",
    "        plt.savefig('../imp/multiple{}.png'.format(i))\n",
    "\n",
    "    return best_weights"
   ]
  },
  {
   "cell_type": "code",
   "execution_count": 3,
   "metadata": {},
   "outputs": [],
   "source": [
    "# load predictions\n",
    "pred_lgbm1 = loadpkl('../features/lgbm_pred_1.pkl')\n",
    "pred_lgbm2 = loadpkl('../features/lgbm_pred_2.pkl')\n",
    "pred_lgbm3 = loadpkl('../features/lgbm_pred_3.pkl')"
   ]
  },
  {
   "cell_type": "code",
   "execution_count": 7,
   "metadata": {
    "scrolled": true
   },
   "outputs": [],
   "source": [
    "sub1 = pd.read_csv('../output/submission_lgbm_1.csv')\n",
    "sub2 = pd.read_csv('../output/submission_lgbm_2.csv')\n",
    "sub3 = pd.read_csv('../output/submission_lgbm_3.csv')"
   ]
  },
  {
   "cell_type": "code",
   "execution_count": 4,
   "metadata": {
    "scrolled": true
   },
   "outputs": [
    {
     "name": "stderr",
     "output_type": "stream",
     "text": [
      "100%|██████████| 5/5 [01:01<00:00, 10.58s/it]\n"
     ]
    }
   ],
   "source": [
    "plans = read_pickles('../features/plans')"
   ]
  },
  {
   "cell_type": "code",
   "execution_count": 5,
   "metadata": {},
   "outputs": [],
   "source": [
    "cols_transport_mode = ['plan_{}_transport_mode'.format(i) for i in range(0,7)]\n",
    "cols_drop = [c for c in plans.columns if c not in cols_transport_mode+['sid','plan_num_plans']]\n",
    "plans.drop(cols_drop,axis=1,inplace=True)"
   ]
  },
  {
   "cell_type": "code",
   "execution_count": 7,
   "metadata": {
    "scrolled": true
   },
   "outputs": [],
   "source": [
    "sub.to_csv('../output/submission_split.csv',index=False)"
   ]
  },
  {
   "cell_type": "code",
   "execution_count": 3,
   "metadata": {
    "scrolled": true
   },
   "outputs": [],
   "source": [
    "pred_lgbm1 = loadpkl('../features/lgbm_pred_1.pkl')"
   ]
  },
  {
   "cell_type": "code",
   "execution_count": 24,
   "metadata": {
    "scrolled": true
   },
   "outputs": [],
   "source": [
    "cols_transport_mode = ['plan_{}_transport_mode'.format(i) for i in range(0,7)]\n",
    "plans = plans[cols_transport_mode+['sid','plan_num_plans']]"
   ]
  },
  {
   "cell_type": "code",
   "execution_count": 9,
   "metadata": {
    "scrolled": true
   },
   "outputs": [
    {
     "data": {
      "text/plain": [
       "2     34083\n",
       "7     22351\n",
       "1     17719\n",
       "5     10906\n",
       "10     3403\n",
       "9      1855\n",
       "3       708\n",
       "0       454\n",
       "11      410\n",
       "6       338\n",
       "8       264\n",
       "4        80\n",
       "Name: recommend_mode, dtype: int64"
      ]
     },
     "execution_count": 9,
     "metadata": {},
     "output_type": "execute_result"
    }
   ],
   "source": [
    "sub1.recommend_mode.value_counts()"
   ]
  },
  {
   "cell_type": "code",
   "execution_count": 19,
   "metadata": {
    "scrolled": true
   },
   "outputs": [],
   "source": [
    "cols_pred_lgbm = ['pred_lgbm_plans{}'.format(i) for i in range(0,12)]\n",
    "pred_lgbm1['recommend_mode'] = np.argmax(pred_lgbm1[cols_pred_lgbm].values,axis=1)\n",
    "pred_lgbm2['recommend_mode'] = np.argmax(pred_lgbm2[cols_pred_lgbm].values,axis=1)\n",
    "pred_lgbm3['recommend_mode'] = np.argmax(pred_lgbm3[cols_pred_lgbm].values,axis=1)"
   ]
  },
  {
   "cell_type": "code",
   "execution_count": 21,
   "metadata": {},
   "outputs": [],
   "source": [
    "sub_pred1 = pred_lgbm1[pred_lgbm1['click_mode'].isnull()]\n",
    "sub_pred2 = pred_lgbm2[pred_lgbm2['click_mode'].isnull()]\n",
    "sub_pred3 = pred_lgbm3[pred_lgbm3['click_mode'].isnull()]\n",
    "\n",
    "oof_pred1 = pred_lgbm1[pred_lgbm1['click_mode'].notnull()]\n",
    "oof_pred2 = pred_lgbm2[pred_lgbm2['click_mode'].notnull()]\n",
    "oof_pred3 = pred_lgbm3[pred_lgbm3['click_mode'].notnull()]"
   ]
  },
  {
   "cell_type": "code",
   "execution_count": 30,
   "metadata": {},
   "outputs": [
    {
     "name": "stdout",
     "output_type": "stream",
     "text": [
      "0 0.06385008716786347\n",
      "1 1.3357098436412087\n",
      "2 1.324610205454177\n",
      "3 0.15250837034463877\n",
      "4 0.03366409796883624\n",
      "5 1.2184538397117477\n",
      "6 0.151138973299714\n",
      "7 1.515983671022611\n",
      "8 0.754130179151316\n",
      "9 0.20137668918733698\n",
      "10 1.2129836492411088\n",
      "11 0.35718415131386794\n"
     ]
    }
   ],
   "source": [
    "for i in range(0,12):\n",
    "    ratio_sub = sub_pred1.recommend_mode.value_counts(normalize=True)[i]\n",
    "    ratio_oof = oof_pred1.click_mode.value_counts(normalize=True)[i]\n",
    "    print(i,ratio_sub/ratio_oof)"
   ]
  },
  {
   "cell_type": "code",
   "execution_count": 31,
   "metadata": {},
   "outputs": [
    {
     "name": "stdout",
     "output_type": "stream",
     "text": [
      "0 0.39495558109836043\n",
      "1 1.1675035895938435\n",
      "2 1.201514511202471\n",
      "3 0.03863715239808232\n",
      "4 0.005032581153442807\n",
      "5 1.2975580785164558\n",
      "6 0.24456553021332572\n",
      "7 1.1972322259876302\n",
      "8 0.4597033229080566\n",
      "9 1.5654235947680832\n",
      "10 0.8493563392368658\n",
      "11 1.4995392467993163\n"
     ]
    }
   ],
   "source": [
    "for i in range(0,12):\n",
    "    ratio_sub = sub_pred2.recommend_mode.value_counts(normalize=True)[i]\n",
    "    ratio_oof = oof_pred2.click_mode.value_counts(normalize=True)[i]\n",
    "    print(i,ratio_sub/ratio_oof)"
   ]
  },
  {
   "cell_type": "code",
   "execution_count": 32,
   "metadata": {},
   "outputs": [
    {
     "name": "stdout",
     "output_type": "stream",
     "text": [
      "0 0.2931026446931892\n",
      "1 1.2296230513618707\n",
      "2 1.299727112585318\n",
      "3 0.10804290399598389\n",
      "4 0.01814112368752401\n",
      "5 1.2656809074453792\n",
      "6 0.19139596882264776\n",
      "7 1.3722277994121381\n",
      "8 0.542836781214525\n",
      "9 0.9652952595379859\n",
      "10 1.0560355179624799\n",
      "11 1.060541335270807\n"
     ]
    }
   ],
   "source": [
    "for i in range(0,12):\n",
    "    ratio_sub = sub_pred3.recommend_mode.value_counts(normalize=True)[i]\n",
    "    ratio_oof = oof_pred3.click_mode.value_counts(normalize=True)[i]\n",
    "    print(i,ratio_sub/ratio_oof)"
   ]
  },
  {
   "cell_type": "code",
   "execution_count": null,
   "metadata": {},
   "outputs": [],
   "source": []
  }
 ],
 "metadata": {
  "kernelspec": {
   "display_name": "Python 3",
   "language": "python",
   "name": "python3"
  },
  "language_info": {
   "codemirror_mode": {
    "name": "ipython",
    "version": 3
   },
   "file_extension": ".py",
   "mimetype": "text/x-python",
   "name": "python",
   "nbconvert_exporter": "python",
   "pygments_lexer": "ipython3",
   "version": "3.6.8"
  }
 },
 "nbformat": 4,
 "nbformat_minor": 2
}
