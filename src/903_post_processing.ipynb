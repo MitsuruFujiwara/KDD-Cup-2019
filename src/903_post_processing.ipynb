{
 "cells": [
  {
   "cell_type": "code",
   "execution_count": 1,
   "metadata": {},
   "outputs": [
    {
     "name": "stderr",
     "output_type": "stream",
     "text": [
      "/home/fujiwara/.pyenv/versions/anaconda3-5.2.0/lib/python3.6/site-packages/requests/__init__.py:80: RequestsDependencyWarning: urllib3 (1.24.1) or chardet (3.0.4) doesn't match a supported version!\n",
      "  RequestsDependencyWarning)\n"
     ]
    }
   ],
   "source": [
    "import gc\n",
    "import json\n",
    "import matplotlib.pyplot as plt\n",
    "import pandas as pd\n",
    "import numpy as np\n",
    "import seaborn as sns\n",
    "\n",
    "from sklearn.metrics import f1_score\n",
    "from sklearn.preprocessing import MinMaxScaler\n",
    "from tqdm import tqdm_notebook\n",
    "from glob import glob\n",
    "\n",
    "from utils import loadpkl, to_json, scalingPredictions, getBestMultiple\n",
    "\n",
    "%matplotlib inline"
   ]
  },
  {
   "cell_type": "code",
   "execution_count": 29,
   "metadata": {},
   "outputs": [],
   "source": [
    "# search a best weight for 2 predictions\n",
    "def getBestWeights(act, pred_lgbm, pred_xgb):\n",
    "    search_range = np.arange(0.0, 1.1, 0.1)\n",
    "    best_weights = []\n",
    "\n",
    "    # base prediction\n",
    "    _pred = pd.DataFrame()\n",
    "    cols_pred=[]\n",
    "    for i in range(0,12):\n",
    "        _pred['pred_{}'.format(i)] = 0.5*pred_lgbm['pred_lgbm_plans{}'.format(i)]+ 0.5*pred_xgb['pred_xgb_plans{}'.format(i)]\n",
    "        cols_pred.append('pred_{}'.format(i))\n",
    "\n",
    "    # base score\n",
    "    best_f1=f1_score(act, np.argmax(_pred[cols_pred].values,axis=1),average='weighted')\n",
    "    \n",
    "    # get best weights for each classes\n",
    "    for i in range(0,12):\n",
    "        f1s = []\n",
    "        for _w in search_range:\n",
    "            tmp_pred = _pred[cols_pred]\n",
    "            tmp_pred['pred_{}'.format(i)] = _w*pred_lgbm['pred_lgbm_plans{}'.format(i)]+ (1.0-_w)*pred_xgb['pred_xgb_plans{}'.format(i)]\n",
    "                    \n",
    "            # calc f1 score\n",
    "            _f1 = f1_score(act, np.argmax(tmp_pred.values,axis=1),average='weighted')\n",
    "            f1s.append(_f1)\n",
    "            print('class: {}, w: {}, f1 score: {}'.format(i,_w,_f1))\n",
    "            if _f1 > best_f1:\n",
    "                best_f1 = _f1\n",
    "                best_w = _w\n",
    "\n",
    "            del tmp_pred\n",
    "\n",
    "        # save weights & predicted values\n",
    "        best_weights.append(best_w)\n",
    "        _pred['pred_{}'.format(i)] = best_w*pred_lgbm['pred_lgbm_plans{}'.format(i)]+ (1.0-best_w)*pred_xgb['pred_xgb_plans{}'.format(i)]\n",
    "        \n",
    "        # plot thresholds\n",
    "        plt.figure()\n",
    "        plt.plot(search_range, f1s)\n",
    "        plt.savefig('../imp/multiple{}.png'.format(i))\n",
    "\n",
    "    return best_weights"
   ]
  },
  {
   "cell_type": "code",
   "execution_count": 4,
   "metadata": {
    "scrolled": true
   },
   "outputs": [],
   "source": [
    "sub1 = pd.read_csv('../output/submission_lgbm_1.csv')\n",
    "sub2 = pd.read_csv('../output/submission_lgbm_2.csv')\n",
    "sub3 = pd.read_csv('../output/submission_lgbm_3.csv')"
   ]
  },
  {
   "cell_type": "code",
   "execution_count": 6,
   "metadata": {
    "scrolled": true
   },
   "outputs": [],
   "source": [
    "sub = sub1.append(sub2)\n",
    "sub = sub.append(sub3)"
   ]
  },
  {
   "cell_type": "code",
   "execution_count": 7,
   "metadata": {
    "scrolled": true
   },
   "outputs": [],
   "source": [
    "sub.to_csv('../output/submission_split.csv',index=False)"
   ]
  },
  {
   "cell_type": "code",
   "execution_count": null,
   "metadata": {},
   "outputs": [],
   "source": []
  }
 ],
 "metadata": {
  "kernelspec": {
   "display_name": "Python 3",
   "language": "python",
   "name": "python3"
  },
  "language_info": {
   "codemirror_mode": {
    "name": "ipython",
    "version": 3
   },
   "file_extension": ".py",
   "mimetype": "text/x-python",
   "name": "python",
   "nbconvert_exporter": "python",
   "pygments_lexer": "ipython3",
   "version": "3.6.8"
  }
 },
 "nbformat": 4,
 "nbformat_minor": 2
}
