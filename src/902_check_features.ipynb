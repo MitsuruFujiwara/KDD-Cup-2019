{
 "cells": [
  {
   "cell_type": "code",
   "execution_count": 11,
   "metadata": {},
   "outputs": [],
   "source": [
    "import gc\n",
    "import json\n",
    "import pandas as pd\n",
    "import numpy as np\n",
    "import seaborn as sns\n",
    "\n",
    "from tqdm import tqdm_notebook\n",
    "from glob import glob\n",
    "\n",
    "from sklearn.decomposition import TruncatedSVD\n",
    "from utils import loadpkl\n",
    "\n",
    "%matplotlib inline"
   ]
  },
  {
   "cell_type": "code",
   "execution_count": 2,
   "metadata": {},
   "outputs": [
    {
     "data": {
      "application/vnd.jupyter.widget-view+json": {
       "model_id": "1d33f122607743aa9ccc3a822aa8ae91",
       "version_major": 2,
       "version_minor": 0
      },
      "text/plain": [
       "HBox(children=(IntProgress(value=0, max=224), HTML(value='')))"
      ]
     },
     "metadata": {},
     "output_type": "display_data"
    },
    {
     "name": "stderr",
     "output_type": "stream",
     "text": [
      "/home/fujiwara/.pyenv/versions/anaconda3-5.2.0/lib/python3.6/site-packages/pandas/io/feather_format.py:124: FutureWarning: `nthreads` argument is deprecated, pass `use_threads` instead\n",
      "  nthreads=int_use_threads)\n",
      "/home/fujiwara/.pyenv/versions/anaconda3-5.2.0/lib/python3.6/site-packages/pyarrow/pandas_compat.py:751: FutureWarning: .labels was deprecated in version 0.24.0. Use .codes instead.\n",
      "  labels, = index.labels\n"
     ]
    },
    {
     "name": "stdout",
     "output_type": "stream",
     "text": [
      "\n"
     ]
    }
   ],
   "source": [
    "# load feathers\n",
    "files = sorted(glob('../features/*.feather'))\n",
    "df = pd.concat([pd.read_feather(f) for f in tqdm_notebook(files, mininterval=60)], axis=1)\n",
    "\n",
    "# split train & test\n",
    "train_df = df[df['click_mode'].notnull()]\n",
    "test_df = df[df['click_mode'].isnull()]"
   ]
  },
  {
   "cell_type": "code",
   "execution_count": 18,
   "metadata": {
    "scrolled": true
   },
   "outputs": [],
   "source": [
    "# load pkls\n",
    "df = loadpkl('../features/plans.pkl')\n",
    "queries = loadpkl('../features/queries.pkl')\n",
    "profiles = loadpkl('../features/profiles.pkl')"
   ]
  },
  {
   "cell_type": "code",
   "execution_count": 12,
   "metadata": {},
   "outputs": [],
   "source": [
    "# merge\n",
    "df = pd.merge(df, queries, on='sid', how='left')\n",
    "df = pd.merge(df, profiles, on='pid', how='left')\n",
    "\n",
    "del queries, profiles\n",
    "gc.collect()\n",
    "\n",
    "train_df = df[df['click_mode'].notnull()]"
   ]
  },
  {
   "cell_type": "code",
   "execution_count": 16,
   "metadata": {
    "scrolled": true
   },
   "outputs": [
    {
     "data": {
      "text/plain": [
       "array([[ 4.23600254e+03,  5.40932505e+00, -5.80920901e-01, ...,\n",
       "         2.42769154e-02, -9.44008875e-02,  1.95654909e-03],\n",
       "       [ 1.48920021e+04,  2.08473709e+00, -1.27411385e+00, ...,\n",
       "        -2.64398589e-01, -9.53964372e-02, -4.57111015e-02],\n",
       "       [ 1.48920021e+04,  2.15611720e+00, -1.18560199e+00, ...,\n",
       "        -1.47757115e-01, -5.98817101e-02, -1.03755162e-01],\n",
       "       ...,\n",
       "       [ 2.75870014e+04, -2.05530430e+00,  7.98401476e-01, ...,\n",
       "         9.05569589e-01, -6.20973589e-02, -1.27454748e-01],\n",
       "       [ 1.48920021e+04,  2.13455634e+00, -1.07937522e+00, ...,\n",
       "        -1.71953580e-01, -6.45253441e-02,  1.19827887e-03],\n",
       "       [ 1.49050029e+04,  4.17349192e+00,  1.00635911e+00, ...,\n",
       "        -1.04728279e-01, -8.55736671e-02, -1.10135317e-01]])"
      ]
     },
     "execution_count": 16,
     "metadata": {},
     "output_type": "execute_result"
    }
   ],
   "source": [
    "feats_prof = [f for f in profiles.columns.to_list() if f not in ['pid']]\n",
    "svd = TruncatedSVD(n_components=20, n_iter=20, random_state=2019)\n",
    "svd.fit_transform(profiles[feats_prof].values)"
   ]
  },
  {
   "cell_type": "code",
   "execution_count": 23,
   "metadata": {
    "scrolled": true
   },
   "outputs": [
    {
     "data": {
      "text/plain": [
       "0         plans_1_distance\n",
       "1         plans_0_distance\n",
       "2         plans_0_distance\n",
       "3         plans_4_distance\n",
       "4         plans_1_distance\n",
       "5         plans_0_distance\n",
       "6         plans_0_distance\n",
       "7         plans_3_distance\n",
       "8         plans_5_distance\n",
       "9         plans_1_distance\n",
       "10        plans_4_distance\n",
       "11        plans_2_distance\n",
       "12        plans_0_distance\n",
       "13        plans_4_distance\n",
       "14        plans_1_distance\n",
       "15        plans_1_distance\n",
       "16        plans_1_distance\n",
       "17        plans_3_distance\n",
       "18        plans_5_distance\n",
       "19        plans_3_distance\n",
       "20        plans_0_distance\n",
       "21        plans_4_distance\n",
       "22        plans_0_distance\n",
       "23        plans_3_distance\n",
       "24        plans_1_distance\n",
       "25        plans_2_distance\n",
       "26        plans_3_distance\n",
       "27        plans_5_distance\n",
       "28        plans_4_distance\n",
       "29        plans_0_distance\n",
       "                ...       \n",
       "583595    plans_2_distance\n",
       "583596    plans_1_distance\n",
       "583597    plans_4_distance\n",
       "583598    plans_0_distance\n",
       "583599    plans_0_distance\n",
       "583600    plans_0_distance\n",
       "583601    plans_1_distance\n",
       "583602    plans_0_distance\n",
       "583603    plans_2_distance\n",
       "583604    plans_2_distance\n",
       "583605    plans_3_distance\n",
       "583606    plans_3_distance\n",
       "583607    plans_3_distance\n",
       "583608    plans_1_distance\n",
       "583609    plans_4_distance\n",
       "583610    plans_0_distance\n",
       "583611    plans_0_distance\n",
       "583612    plans_3_distance\n",
       "583613    plans_0_distance\n",
       "583614    plans_0_distance\n",
       "583615    plans_3_distance\n",
       "583616    plans_0_distance\n",
       "583617    plans_4_distance\n",
       "583618    plans_1_distance\n",
       "583619    plans_1_distance\n",
       "583620    plans_1_distance\n",
       "583621    plans_3_distance\n",
       "583622    plans_2_distance\n",
       "583623    plans_0_distance\n",
       "583624    plans_4_distance\n",
       "Length: 583625, dtype: object"
      ]
     },
     "execution_count": 23,
     "metadata": {},
     "output_type": "execute_result"
    }
   ],
   "source": [
    "cols_distance = ['plans_{}_distance'.format(i) for i in range(0,7)]\n",
    "df[cols_distance].idxmax(axis=1)"
   ]
  },
  {
   "cell_type": "code",
   "execution_count": 22,
   "metadata": {
    "scrolled": true
   },
   "outputs": [
    {
     "data": {
      "text/plain": [
       "0         0.060405\n",
       "1         0.046703\n",
       "2         0.067123\n",
       "3         0.046703\n",
       "4         0.067123\n",
       "5         0.127590\n",
       "6         0.046703\n",
       "7         0.046703\n",
       "8         0.046703\n",
       "9         0.092444\n",
       "10        0.046703\n",
       "11        0.046703\n",
       "12        0.067123\n",
       "13        0.091560\n",
       "14        0.092444\n",
       "15        0.067123\n",
       "16        0.046703\n",
       "17        0.127590\n",
       "18        0.156717\n",
       "19        0.046703\n",
       "20        0.067123\n",
       "21        0.046703\n",
       "22        0.067123\n",
       "23        0.060405\n",
       "24        0.046703\n",
       "25        0.091560\n",
       "26        0.091560\n",
       "27        0.091560\n",
       "28        0.046703\n",
       "29        0.046703\n",
       "            ...   \n",
       "491024    0.060405\n",
       "491025    0.046703\n",
       "491026    0.046703\n",
       "491027    0.060405\n",
       "491028    0.067123\n",
       "491029    0.046703\n",
       "491030    0.067123\n",
       "491031    0.060405\n",
       "491032    0.046703\n",
       "491033    0.091560\n",
       "491034    0.092444\n",
       "491035    0.122996\n",
       "491036    0.067123\n",
       "491037    0.092444\n",
       "491038    0.067123\n",
       "491039    0.067123\n",
       "491040    0.092444\n",
       "491041    0.046703\n",
       "491042    0.060405\n",
       "491043    0.046703\n",
       "491044    0.127590\n",
       "491045    0.060405\n",
       "491046    0.067123\n",
       "491047    0.067123\n",
       "491048    0.046703\n",
       "491049    0.122996\n",
       "491050    0.156717\n",
       "491051    0.060405\n",
       "491052    0.060405\n",
       "491053    0.127590\n",
       "Name: plans_0_transport_mode, Length: 491054, dtype: float64"
      ]
     },
     "execution_count": 22,
     "metadata": {},
     "output_type": "execute_result"
    }
   ],
   "source": [
    "train_df.plans_0_transport_mode.map(train_df.groupby('plans_0_transport_mode').mean()['target_0'])"
   ]
  },
  {
   "cell_type": "code",
   "execution_count": 23,
   "metadata": {},
   "outputs": [
    {
     "data": {
      "text/plain": [
       "['target_0',\n",
       " 'target_1',\n",
       " 'target_2',\n",
       " 'target_3',\n",
       " 'target_4',\n",
       " 'target_5',\n",
       " 'target_6',\n",
       " 'target_7',\n",
       " 'target_8',\n",
       " 'target_9',\n",
       " 'target_10',\n",
       " 'target_11']"
      ]
     },
     "execution_count": 23,
     "metadata": {},
     "output_type": "execute_result"
    }
   ],
   "source": [
    "target_dummies.columns.to_list()"
   ]
  },
  {
   "cell_type": "code",
   "execution_count": null,
   "metadata": {},
   "outputs": [],
   "source": []
  }
 ],
 "metadata": {
  "kernelspec": {
   "display_name": "Python 3",
   "language": "python",
   "name": "python3"
  },
  "language_info": {
   "codemirror_mode": {
    "name": "ipython",
    "version": 3
   },
   "file_extension": ".py",
   "mimetype": "text/x-python",
   "name": "python",
   "nbconvert_exporter": "python",
   "pygments_lexer": "ipython3",
   "version": "3.6.8"
  }
 },
 "nbformat": 4,
 "nbformat_minor": 2
}
