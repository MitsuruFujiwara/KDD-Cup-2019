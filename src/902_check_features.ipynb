{
 "cells": [
  {
   "cell_type": "code",
   "execution_count": 1,
   "metadata": {},
   "outputs": [
    {
     "name": "stderr",
     "output_type": "stream",
     "text": [
      "/home/fujiwara/.pyenv/versions/anaconda3-5.2.0/lib/python3.6/site-packages/requests/__init__.py:80: RequestsDependencyWarning: urllib3 (1.24.1) or chardet (3.0.4) doesn't match a supported version!\n",
      "  RequestsDependencyWarning)\n"
     ]
    }
   ],
   "source": [
    "import gc\n",
    "import json\n",
    "import pandas as pd\n",
    "import numpy as np\n",
    "import seaborn as sns\n",
    "\n",
    "from tqdm import tqdm_notebook\n",
    "from glob import glob\n",
    "\n",
    "from utils import loadpkl\n",
    "\n",
    "%matplotlib inline"
   ]
  },
  {
   "cell_type": "code",
   "execution_count": 10,
   "metadata": {},
   "outputs": [
    {
     "data": {
      "application/vnd.jupyter.widget-view+json": {
       "model_id": "5672e1a42dd44735ba19fb1f67e34103",
       "version_major": 2,
       "version_minor": 0
      },
      "text/plain": [
       "HBox(children=(IntProgress(value=0, max=120), HTML(value='')))"
      ]
     },
     "metadata": {},
     "output_type": "display_data"
    },
    {
     "name": "stderr",
     "output_type": "stream",
     "text": [
      "/home/fujiwara/.pyenv/versions/anaconda3-5.2.0/lib/python3.6/site-packages/pandas/io/feather_format.py:124: FutureWarning: `nthreads` argument is deprecated, pass `use_threads` instead\n",
      "  nthreads=int_use_threads)\n",
      "/home/fujiwara/.pyenv/versions/anaconda3-5.2.0/lib/python3.6/site-packages/pyarrow/pandas_compat.py:751: FutureWarning: .labels was deprecated in version 0.24.0. Use .codes instead.\n",
      "  labels, = index.labels\n"
     ]
    },
    {
     "name": "stdout",
     "output_type": "stream",
     "text": [
      "\n"
     ]
    }
   ],
   "source": [
    "# load feathers\n",
    "files = sorted(glob('../features/*.feather'))\n",
    "df = pd.concat([pd.read_feather(f) for f in tqdm_notebook(files, mininterval=60)], axis=1)\n",
    "\n",
    "# split train & test\n",
    "train_df = df[df['click_mode'].notnull()]\n",
    "test_df = df[df['click_mode'].isnull()]"
   ]
  },
  {
   "cell_type": "code",
   "execution_count": 11,
   "metadata": {
    "scrolled": true
   },
   "outputs": [],
   "source": [
    "# load pkls\n",
    "df = loadpkl('../features/plans.pkl')\n",
    "queries = loadpkl('../features/queries.pkl')\n",
    "profiles = loadpkl('../features/profiles.pkl')"
   ]
  },
  {
   "cell_type": "code",
   "execution_count": 12,
   "metadata": {},
   "outputs": [],
   "source": [
    "# merge\n",
    "df = pd.merge(df, queries, on='sid', how='left')\n",
    "df = pd.merge(df, profiles, on='pid', how='left')\n",
    "\n",
    "del queries, profiles\n",
    "gc.collect()\n",
    "\n",
    "train_df = df[df['click_mode'].notnull()]"
   ]
  },
  {
   "cell_type": "code",
   "execution_count": 16,
   "metadata": {
    "scrolled": true
   },
   "outputs": [],
   "source": [
    "target_dummies=pd.get_dummies(train_df.click_mode.astype(int), prefix='target')"
   ]
  },
  {
   "cell_type": "code",
   "execution_count": 19,
   "metadata": {
    "scrolled": true
   },
   "outputs": [],
   "source": [
    "train_df = pd.concat([train_df, target_dummies],axis=1)"
   ]
  },
  {
   "cell_type": "code",
   "execution_count": 22,
   "metadata": {
    "scrolled": true
   },
   "outputs": [
    {
     "data": {
      "text/plain": [
       "0         0.060405\n",
       "1         0.046703\n",
       "2         0.067123\n",
       "3         0.046703\n",
       "4         0.067123\n",
       "5         0.127590\n",
       "6         0.046703\n",
       "7         0.046703\n",
       "8         0.046703\n",
       "9         0.092444\n",
       "10        0.046703\n",
       "11        0.046703\n",
       "12        0.067123\n",
       "13        0.091560\n",
       "14        0.092444\n",
       "15        0.067123\n",
       "16        0.046703\n",
       "17        0.127590\n",
       "18        0.156717\n",
       "19        0.046703\n",
       "20        0.067123\n",
       "21        0.046703\n",
       "22        0.067123\n",
       "23        0.060405\n",
       "24        0.046703\n",
       "25        0.091560\n",
       "26        0.091560\n",
       "27        0.091560\n",
       "28        0.046703\n",
       "29        0.046703\n",
       "            ...   \n",
       "491024    0.060405\n",
       "491025    0.046703\n",
       "491026    0.046703\n",
       "491027    0.060405\n",
       "491028    0.067123\n",
       "491029    0.046703\n",
       "491030    0.067123\n",
       "491031    0.060405\n",
       "491032    0.046703\n",
       "491033    0.091560\n",
       "491034    0.092444\n",
       "491035    0.122996\n",
       "491036    0.067123\n",
       "491037    0.092444\n",
       "491038    0.067123\n",
       "491039    0.067123\n",
       "491040    0.092444\n",
       "491041    0.046703\n",
       "491042    0.060405\n",
       "491043    0.046703\n",
       "491044    0.127590\n",
       "491045    0.060405\n",
       "491046    0.067123\n",
       "491047    0.067123\n",
       "491048    0.046703\n",
       "491049    0.122996\n",
       "491050    0.156717\n",
       "491051    0.060405\n",
       "491052    0.060405\n",
       "491053    0.127590\n",
       "Name: plans_0_transport_mode, Length: 491054, dtype: float64"
      ]
     },
     "execution_count": 22,
     "metadata": {},
     "output_type": "execute_result"
    }
   ],
   "source": [
    "train_df.plans_0_transport_mode.map(train_df.groupby('plans_0_transport_mode').mean()['target_0'])"
   ]
  },
  {
   "cell_type": "code",
   "execution_count": 23,
   "metadata": {},
   "outputs": [
    {
     "data": {
      "text/plain": [
       "['target_0',\n",
       " 'target_1',\n",
       " 'target_2',\n",
       " 'target_3',\n",
       " 'target_4',\n",
       " 'target_5',\n",
       " 'target_6',\n",
       " 'target_7',\n",
       " 'target_8',\n",
       " 'target_9',\n",
       " 'target_10',\n",
       " 'target_11']"
      ]
     },
     "execution_count": 23,
     "metadata": {},
     "output_type": "execute_result"
    }
   ],
   "source": [
    "target_dummies.columns.to_list()"
   ]
  },
  {
   "cell_type": "code",
   "execution_count": null,
   "metadata": {},
   "outputs": [],
   "source": []
  }
 ],
 "metadata": {
  "kernelspec": {
   "display_name": "Python 3",
   "language": "python",
   "name": "python3"
  },
  "language_info": {
   "codemirror_mode": {
    "name": "ipython",
    "version": 3
   },
   "file_extension": ".py",
   "mimetype": "text/x-python",
   "name": "python",
   "nbconvert_exporter": "python",
   "pygments_lexer": "ipython3",
   "version": "3.6.8"
  }
 },
 "nbformat": 4,
 "nbformat_minor": 2
}
