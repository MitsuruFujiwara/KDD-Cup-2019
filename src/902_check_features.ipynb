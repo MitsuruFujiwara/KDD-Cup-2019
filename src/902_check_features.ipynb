{
 "cells": [
  {
   "cell_type": "code",
   "execution_count": 1,
   "metadata": {},
   "outputs": [
    {
     "name": "stderr",
     "output_type": "stream",
     "text": [
      "/home/fujiwara/.pyenv/versions/anaconda3-5.2.0/lib/python3.6/site-packages/requests/__init__.py:80: RequestsDependencyWarning: urllib3 (1.24.1) or chardet (3.0.4) doesn't match a supported version!\n",
      "  RequestsDependencyWarning)\n"
     ]
    }
   ],
   "source": [
    "import gc\n",
    "import json\n",
    "import pandas as pd\n",
    "import numpy as np\n",
    "import seaborn as sns\n",
    "\n",
    "from tqdm import tqdm_notebook\n",
    "from glob import glob\n",
    "\n",
    "from sklearn.decomposition import TruncatedSVD, NMF\n",
    "from utils import loadpkl, to_json\n",
    "\n",
    "%matplotlib inline"
   ]
  },
  {
   "cell_type": "code",
   "execution_count": 14,
   "metadata": {},
   "outputs": [
    {
     "data": {
      "application/vnd.jupyter.widget-view+json": {
       "model_id": "03e92b3c86f84352a93a96335f425339",
       "version_major": 2,
       "version_minor": 0
      },
      "text/plain": [
       "HBox(children=(IntProgress(value=0, max=318), HTML(value='')))"
      ]
     },
     "metadata": {},
     "output_type": "display_data"
    },
    {
     "name": "stderr",
     "output_type": "stream",
     "text": [
      "/home/fujiwara/.pyenv/versions/anaconda3-5.2.0/lib/python3.6/site-packages/pandas/io/feather_format.py:124: FutureWarning: `nthreads` argument is deprecated, pass `use_threads` instead\n",
      "  nthreads=int_use_threads)\n",
      "/home/fujiwara/.pyenv/versions/anaconda3-5.2.0/lib/python3.6/site-packages/pyarrow/pandas_compat.py:751: FutureWarning: .labels was deprecated in version 0.24.0. Use .codes instead.\n",
      "  labels, = index.labels\n"
     ]
    },
    {
     "name": "stdout",
     "output_type": "stream",
     "text": [
      "\n"
     ]
    }
   ],
   "source": [
    "# load feathers\n",
    "files = sorted(glob('../features/*.feather'))\n",
    "df = pd.concat([pd.read_feather(f) for f in tqdm_notebook(files, mininterval=60)], axis=1)\n",
    "\n",
    "# split train & test\n",
    "train_df = df[df['click_mode'].notnull()]\n",
    "test_df = df[df['click_mode'].isnull()]"
   ]
  },
  {
   "cell_type": "code",
   "execution_count": 3,
   "metadata": {},
   "outputs": [],
   "source": [
    "# load pkls\n",
    "df = loadpkl('../features/plans.pkl')\n",
    "queries = loadpkl('../features/queries.pkl')\n",
    "profiles = loadpkl('../features/profiles.pkl')\n",
    "#queries_pred = loadpkl('../features/queries_pred.pkl')"
   ]
  },
  {
   "cell_type": "code",
   "execution_count": 3,
   "metadata": {},
   "outputs": [],
   "source": [
    "# merge\n",
    "df = pd.merge(df, queries, on='sid', how='left')\n",
    "df = pd.merge(df, profiles, on='pid', how='left')\n",
    "\n",
    "del queries, profiles\n",
    "gc.collect()\n",
    "\n",
    "train_df = df[df['click_mode'].notnull()]"
   ]
  },
  {
   "cell_type": "code",
   "execution_count": 18,
   "metadata": {
    "scrolled": true
   },
   "outputs": [],
   "source": [
    "profiles = profiles[['pid']+['profile_{}'.format(i) for i in range(0,66)]]\n",
    "df = pd.merge(queries, profiles, on='pid', how='left')"
   ]
  },
  {
   "cell_type": "code",
   "execution_count": 21,
   "metadata": {
    "scrolled": true
   },
   "outputs": [],
   "source": [
    "df.drop(['pid','req_time'],axis=1,inplace=True)"
   ]
  },
  {
   "cell_type": "code",
   "execution_count": 5,
   "metadata": {
    "scrolled": true
   },
   "outputs": [
    {
     "data": {
      "text/plain": [
       "['sid',\n",
       " 'plan_0_distance',\n",
       " 'plan_1_distance',\n",
       " 'plan_2_distance',\n",
       " 'plan_3_distance',\n",
       " 'plan_4_distance',\n",
       " 'plan_5_distance',\n",
       " 'plan_6_distance',\n",
       " 'plan_0_price',\n",
       " 'plan_1_price',\n",
       " 'plan_2_price',\n",
       " 'plan_3_price',\n",
       " 'plan_4_price',\n",
       " 'plan_5_price',\n",
       " 'plan_6_price',\n",
       " 'plan_0_eta',\n",
       " 'plan_1_eta',\n",
       " 'plan_2_eta',\n",
       " 'plan_3_eta',\n",
       " 'plan_4_eta',\n",
       " 'plan_5_eta',\n",
       " 'plan_6_eta',\n",
       " 'plan_0_transport_mode',\n",
       " 'plan_1_transport_mode',\n",
       " 'plan_2_transport_mode',\n",
       " 'plan_3_transport_mode',\n",
       " 'plan_4_transport_mode',\n",
       " 'plan_5_transport_mode',\n",
       " 'plan_6_transport_mode',\n",
       " 'plan_time',\n",
       " 'click_mode',\n",
       " 'plan_weekday',\n",
       " 'plan_hour',\n",
       " 'plan_weekday_hour',\n",
       " 'plan_time_diff',\n",
       " 'plan_weekday_count',\n",
       " 'plan_hour_count',\n",
       " 'plan_weekday_hour_count',\n",
       " 'plan_distance_mean',\n",
       " 'plan_distance_sum',\n",
       " 'plan_distance_max',\n",
       " 'plan_distance_min',\n",
       " 'plan_distance_var',\n",
       " 'plan_distance_skew',\n",
       " 'plan_price_mean',\n",
       " 'plan_price_sum',\n",
       " 'plan_price_max',\n",
       " 'plan_price_min',\n",
       " 'plan_price_var',\n",
       " 'plan_price_skew',\n",
       " 'plan_eta_mean',\n",
       " 'plan_eta_sum',\n",
       " 'plan_eta_max',\n",
       " 'plan_eta_min',\n",
       " 'plan_eta_var',\n",
       " 'plan_eta_skew',\n",
       " 'plan_distance_max_plan',\n",
       " 'plan_distance_min_plan',\n",
       " 'plan_price_max_plan',\n",
       " 'plan_price_min_plan',\n",
       " 'plan_eta_max_plan',\n",
       " 'plan_eta_min_plan',\n",
       " 'plan_distance_max_plan_count',\n",
       " 'plan_distance_min_plan_count',\n",
       " 'plan_price_max_plan_count',\n",
       " 'plan_price_min_plan_count',\n",
       " 'plan_eta_max_plan_count',\n",
       " 'plan_eta_min_plan_count',\n",
       " 'plan_0_transport_mode_count',\n",
       " 'plan_1_transport_mode_count',\n",
       " 'plan_2_transport_mode_count',\n",
       " 'plan_3_transport_mode_count',\n",
       " 'plan_4_transport_mode_count',\n",
       " 'plan_5_transport_mode_count',\n",
       " 'plan_6_transport_mode_count',\n",
       " 'plan_0_price_distance_ratio',\n",
       " 'plan_0_price_eta_ratio',\n",
       " 'plan_0_distance_eta_ratio',\n",
       " 'plan_1_price_distance_ratio',\n",
       " 'plan_1_price_eta_ratio',\n",
       " 'plan_1_distance_eta_ratio',\n",
       " 'plan_2_price_distance_ratio',\n",
       " 'plan_2_price_eta_ratio',\n",
       " 'plan_2_distance_eta_ratio',\n",
       " 'plan_3_price_distance_ratio',\n",
       " 'plan_3_price_eta_ratio',\n",
       " 'plan_3_distance_eta_ratio',\n",
       " 'plan_4_price_distance_ratio',\n",
       " 'plan_4_price_eta_ratio',\n",
       " 'plan_4_distance_eta_ratio',\n",
       " 'plan_5_price_distance_ratio',\n",
       " 'plan_5_price_eta_ratio',\n",
       " 'plan_5_distance_eta_ratio',\n",
       " 'plan_6_price_distance_ratio',\n",
       " 'plan_6_price_eta_ratio',\n",
       " 'plan_6_distance_eta_ratio',\n",
       " 'plan_price_distance_ratio_mean',\n",
       " 'plan_price_distance_ratio_sum',\n",
       " 'plan_price_distance_ratio_max',\n",
       " 'plan_price_distance_ratio_min',\n",
       " 'plan_price_distance_ratio_var',\n",
       " 'plan_price_distance_ratio_skew',\n",
       " 'plan_price_eta_ratio_mean',\n",
       " 'plan_price_eta_ratio_sum',\n",
       " 'plan_price_eta_ratio_max',\n",
       " 'plan_price_eta_ratio_min',\n",
       " 'plan_price_eta_ratio_var',\n",
       " 'plan_price_eta_ratio_skew',\n",
       " 'plan_distance_eta_ratio_mean',\n",
       " 'plan_distance_eta_ratio_sum',\n",
       " 'plan_distance_eta_ratio_max',\n",
       " 'plan_distance_eta_ratio_min',\n",
       " 'plan_distance_eta_ratio_var',\n",
       " 'plan_distance_eta_ratio_skew',\n",
       " 'plan_price_distance_ratio_max_plan',\n",
       " 'plan_price_distance_ratio_min_plan',\n",
       " 'plan_price_eta_ratio_max_plan',\n",
       " 'plan_price_eta_ratio_min_plan',\n",
       " 'plan_distance_eta_ratio_max_plan',\n",
       " 'plan_distance_eta_ratio_min_plan',\n",
       " 'plan_price_distance_ratio_max_plan_count',\n",
       " 'plan_price_distance_ratio_min_plan_count',\n",
       " 'plan_price_eta_ratio_max_plan_count',\n",
       " 'plan_price_eta_ratio_min_plan_count',\n",
       " 'plan_distance_eta_ratio_max_plan_count',\n",
       " 'plan_distance_eta_ratio_min_plan_count',\n",
       " 'plan_weekday_target_0',\n",
       " 'plan_weekday_target_1',\n",
       " 'plan_weekday_target_2',\n",
       " 'plan_weekday_target_3',\n",
       " 'plan_weekday_target_4',\n",
       " 'plan_weekday_target_5',\n",
       " 'plan_weekday_target_6',\n",
       " 'plan_weekday_target_7',\n",
       " 'plan_weekday_target_8',\n",
       " 'plan_weekday_target_9',\n",
       " 'plan_weekday_target_10',\n",
       " 'plan_weekday_target_11',\n",
       " 'plan_hour_target_0',\n",
       " 'plan_hour_target_1',\n",
       " 'plan_hour_target_2',\n",
       " 'plan_hour_target_3',\n",
       " 'plan_hour_target_4',\n",
       " 'plan_hour_target_5',\n",
       " 'plan_hour_target_6',\n",
       " 'plan_hour_target_7',\n",
       " 'plan_hour_target_8',\n",
       " 'plan_hour_target_9',\n",
       " 'plan_hour_target_10',\n",
       " 'plan_hour_target_11',\n",
       " 'plan_weekday_hour_target_0',\n",
       " 'plan_weekday_hour_target_1',\n",
       " 'plan_weekday_hour_target_2',\n",
       " 'plan_weekday_hour_target_3',\n",
       " 'plan_weekday_hour_target_4',\n",
       " 'plan_weekday_hour_target_5',\n",
       " 'plan_weekday_hour_target_6',\n",
       " 'plan_weekday_hour_target_7',\n",
       " 'plan_weekday_hour_target_8',\n",
       " 'plan_weekday_hour_target_9',\n",
       " 'plan_weekday_hour_target_10',\n",
       " 'plan_weekday_hour_target_11']"
      ]
     },
     "execution_count": 5,
     "metadata": {},
     "output_type": "execute_result"
    }
   ],
   "source": [
    "df.columns.to_list()"
   ]
  },
  {
   "cell_type": "code",
   "execution_count": 9,
   "metadata": {},
   "outputs": [
    {
     "data": {
      "text/plain": [
       "<matplotlib.axes._subplots.AxesSubplot at 0x7f162aa0aa20>"
      ]
     },
     "execution_count": 9,
     "metadata": {},
     "output_type": "execute_result"
    },
    {
     "data": {
      "image/png": "[encoded data removed]",
      "text/plain": [
       "<Figure size 432x288 with 1 Axes>"
      ]
     },
     "metadata": {},
     "output_type": "display_data"
    }
   ],
   "source": [
    "queries.queries_distance.hist(bins=255)"
   ]
  },
  {
   "cell_type": "code",
   "execution_count": 11,
   "metadata": {},
   "outputs": [
    {
     "data": {
      "text/plain": [
       "<matplotlib.axes._subplots.AxesSubplot at 0x7f162a248908>"
      ]
     },
     "execution_count": 11,
     "metadata": {},
     "output_type": "execute_result"
    },
    {
     "data": {
      "image/png": "[encoded data removed]",
      "text/plain": [
       "<Figure size 432x288 with 1 Axes>"
      ]
     },
     "metadata": {},
     "output_type": "display_data"
    }
   ],
   "source": [
    "df.plan_1_distance.hist(bins=255)"
   ]
  },
  {
   "cell_type": "code",
   "execution_count": 12,
   "metadata": {},
   "outputs": [
    {
     "name": "stdout",
     "output_type": "stream",
     "text": [
      "0 a\n",
      "1 b\n",
      "2 c\n"
     ]
    }
   ],
   "source": [
    "for i, t in enumerate(['a','b','c']):\n",
    "    print(i,t)"
   ]
  },
  {
   "cell_type": "code",
   "execution_count": 9,
   "metadata": {
    "scrolled": true
   },
   "outputs": [
    {
     "data": {
      "text/plain": [
       "plan_distance_max_plan                object\n",
       "plan_distance_min_plan                object\n",
       "plan_price_max_plan                   object\n",
       "plan_price_min_plan                   object\n",
       "plan_eta_max_plan                     object\n",
       "plan_eta_min_plan                     object\n",
       "plan_price_distance_ratio_max_plan    object\n",
       "plan_price_eta_ratio_max_plan         object\n",
       "plan_price_distance_ratio_min_plan    object\n",
       "plan_price_eta_ratio_min_plan         object\n",
       "plan_distance_eta_ratio_max_plan      object\n",
       "plan_distance_eta_ratio_min_plan      object\n",
       "plan_distance_ratio_0_max_plan        object\n",
       "plan_distance_ratio_0_min_plan        object\n",
       "plan_price_ratio_0_max_plan           object\n",
       "plan_price_ratio_0_min_plan           object\n",
       "plan_eta_ratio_0_max_plan             object\n",
       "plan_eta_ratio_0_min_plan             object\n",
       "dtype: object"
      ]
     },
     "execution_count": 9,
     "metadata": {},
     "output_type": "execute_result"
    }
   ],
   "source": [
    "df.dtypes[df.dtypes=='object']"
   ]
  },
  {
   "cell_type": "code",
   "execution_count": 16,
   "metadata": {
    "scrolled": true
   },
   "outputs": [
    {
     "data": {
      "text/plain": [
       "sid                                         int64\n",
       "plan_0_distance                             int64\n",
       "plan_1_distance                           float64\n",
       "plan_2_distance                           float64\n",
       "plan_3_distance                           float64\n",
       "plan_4_distance                           float64\n",
       "plan_5_distance                           float64\n",
       "plan_6_distance                           float64\n",
       "plan_0_price                                int64\n",
       "plan_1_price                              float64\n",
       "plan_2_price                              float64\n",
       "plan_3_price                              float64\n",
       "plan_4_price                              float64\n",
       "plan_5_price                              float64\n",
       "plan_6_price                              float64\n",
       "plan_0_eta                                  int64\n",
       "plan_1_eta                                float64\n",
       "plan_2_eta                                float64\n",
       "plan_3_eta                                float64\n",
       "plan_4_eta                                float64\n",
       "plan_5_eta                                float64\n",
       "plan_6_eta                                float64\n",
       "plan_0_transport_mode                       int64\n",
       "plan_1_transport_mode                     float64\n",
       "plan_2_transport_mode                     float64\n",
       "plan_3_transport_mode                     float64\n",
       "plan_4_transport_mode                     float64\n",
       "plan_5_transport_mode                     float64\n",
       "plan_6_transport_mode                     float64\n",
       "plan_time                          datetime64[ns]\n",
       "                                        ...      \n",
       "plan_2_transport_mode_target_6            float64\n",
       "plan_2_transport_mode_target_7            float64\n",
       "plan_2_transport_mode_target_8            float64\n",
       "plan_2_transport_mode_target_9            float64\n",
       "plan_2_transport_mode_target_10           float64\n",
       "plan_2_transport_mode_target_11           float64\n",
       "plan_3_transport_mode_target_0            float64\n",
       "plan_3_transport_mode_target_1            float64\n",
       "plan_3_transport_mode_target_2            float64\n",
       "plan_3_transport_mode_target_3            float64\n",
       "plan_3_transport_mode_target_4            float64\n",
       "plan_3_transport_mode_target_5            float64\n",
       "plan_3_transport_mode_target_6            float64\n",
       "plan_3_transport_mode_target_7            float64\n",
       "plan_3_transport_mode_target_8            float64\n",
       "plan_3_transport_mode_target_9            float64\n",
       "plan_3_transport_mode_target_10           float64\n",
       "plan_3_transport_mode_target_11           float64\n",
       "plan_4_transport_mode_target_0            float64\n",
       "plan_4_transport_mode_target_1            float64\n",
       "plan_4_transport_mode_target_2            float64\n",
       "plan_4_transport_mode_target_3            float64\n",
       "plan_4_transport_mode_target_4            float64\n",
       "plan_4_transport_mode_target_5            float64\n",
       "plan_4_transport_mode_target_6            float64\n",
       "plan_4_transport_mode_target_7            float64\n",
       "plan_4_transport_mode_target_8            float64\n",
       "plan_4_transport_mode_target_9            float64\n",
       "plan_4_transport_mode_target_10           float64\n",
       "plan_4_transport_mode_target_11           float64\n",
       "Length: 296, dtype: object"
      ]
     },
     "execution_count": 16,
     "metadata": {},
     "output_type": "execute_result"
    }
   ],
   "source": [
    "df.dtypes"
   ]
  },
  {
   "cell_type": "code",
   "execution_count": null,
   "metadata": {},
   "outputs": [],
   "source": []
  }
 ],
 "metadata": {
  "kernelspec": {
   "display_name": "Python 3",
   "language": "python",
   "name": "python3"
  },
  "language_info": {
   "codemirror_mode": {
    "name": "ipython",
    "version": 3
   },
   "file_extension": ".py",
   "mimetype": "text/x-python",
   "name": "python",
   "nbconvert_exporter": "python",
   "pygments_lexer": "ipython3",
   "version": "3.6.8"
  }
 },
 "nbformat": 4,
 "nbformat_minor": 2
}
